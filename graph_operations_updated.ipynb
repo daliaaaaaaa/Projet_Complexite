{
 "cells": [
  {
   "cell_type": "markdown",
   "id": "5202bb2c",
   "metadata": {},
   "source": [
    "# Analyse des Temps d'Opérations"
   ]
  },
  {
   "cell_type": "code",
   "execution_count": 2,
   "id": "5c8e3226",
   "metadata": {},
   "outputs": [
    {
     "ename": "ModuleNotFoundError",
     "evalue": "No module named 'pandas'",
     "output_type": "error",
     "traceback": [
      "\u001b[1;31m---------------------------------------------------------------------------\u001b[0m",
      "\u001b[1;31mModuleNotFoundError\u001b[0m                       Traceback (most recent call last)",
      "Cell \u001b[1;32mIn[2], line 1\u001b[0m\n\u001b[1;32m----> 1\u001b[0m \u001b[38;5;28;01mimport\u001b[39;00m \u001b[38;5;21;01mpandas\u001b[39;00m \u001b[38;5;28;01mas\u001b[39;00m \u001b[38;5;21;01mpd\u001b[39;00m\n\u001b[0;32m      2\u001b[0m \u001b[38;5;28;01mimport\u001b[39;00m \u001b[38;5;21;01mmatplotlib\u001b[39;00m\u001b[38;5;21;01m.\u001b[39;00m\u001b[38;5;21;01mpyplot\u001b[39;00m \u001b[38;5;28;01mas\u001b[39;00m \u001b[38;5;21;01mplt\u001b[39;00m\n\u001b[0;32m      3\u001b[0m \u001b[38;5;28;01mimport\u001b[39;00m \u001b[38;5;21;01mnumpy\u001b[39;00m \u001b[38;5;28;01mas\u001b[39;00m \u001b[38;5;21;01mnp\u001b[39;00m\n",
      "\u001b[1;31mModuleNotFoundError\u001b[0m: No module named 'pandas'"
     ]
    }
   ],
   "source": [
    "\n",
    "import pandas as pd\n",
    "import matplotlib.pyplot as plt\n",
    "import numpy as np\n",
    "\n",
    "# Lecture du fichier CSV\n",
    "data = pd.read_csv('complexite_temps_abr.csv')\n",
    "\n",
    "plt.figure(figsize=(18, 6))\n",
    "\n",
    "\n",
    "\n",
    "# Graphique pour l'insertion\n",
    "plt.subplot(1, 3, 2)\n",
    "plt.plot(data['Taille'], data['Temps Insertion'], marker='o', label=\"Temps Insertion\", color='green')\n",
    "plt.plot(data['Taille'], np.log2(data['Taille']), label=\"y=log2(n)\", linestyle='--', color='orange')\n",
    "plt.xlabel(\"Taille\")\n",
    "plt.ylabel(\"Temps (s)\")\n",
    "plt.title(\"Temps d'Insertion\")\n",
    "plt.xscale(\"log\")\n",
    "plt.yscale(\"log\")\n",
    "plt.xticks(data['Taille'], rotation=45)\n",
    "plt.grid()\n",
    "plt.legend()\n",
    "\n",
    "# Graphique pour la recherche\n",
    "plt.subplot(1, 3, 1)\n",
    "plt.plot(data['Taille'], data['Temps Recherche'], marker='o', label=\"Temps Recherche\", color='blue')\n",
    "plt.plot(data['Taille'], data['Taille'], label=\"y=x\", linestyle='--', color='gray')\n",
    "plt.xlabel(\"Taille\")\n",
    "plt.ylabel(\"Temps (s)\")\n",
    "plt.title(\"Temps de Recherche\")\n",
    "plt.xscale(\"log\")\n",
    "plt.yscale(\"log\")\n",
    "plt.xticks(data['Taille'], rotation=45)\n",
    "plt.grid()\n",
    "plt.legend()\n",
    "\n",
    "# Graphique pour la suppression\n",
    "plt.subplot(1, 3, 3)\n",
    "plt.plot(data['Taille'], data['Temps Suppression'], marker='o', label=\"Temps Suppression\", color='red')\n",
    "plt.plot(data['Taille'], np.log2(data['Taille']), label=\"y=log2(n)\", linestyle='--', color='orange')\n",
    "plt.xlabel(\"Taille\")\n",
    "plt.ylabel(\"Temps (s)\")\n",
    "plt.title(\"Temps de Suppression\")\n",
    "plt.xscale(\"log\")\n",
    "plt.yscale(\"log\")\n",
    "plt.xticks(data['Taille'], rotation=45)\n",
    "plt.grid()\n",
    "plt.legend()\n",
    "\n",
    "plt.tight_layout()\n",
    "plt.show()\n"
   ]
  }
 ],
 "metadata": {
  "kernelspec": {
   "display_name": "Python 3",
   "language": "python",
   "name": "python3"
  },
  "language_info": {
   "codemirror_mode": {
    "name": "ipython",
    "version": 3
   },
   "file_extension": ".py",
   "mimetype": "text/x-python",
   "name": "python",
   "nbconvert_exporter": "python",
   "pygments_lexer": "ipython3",
   "version": "3.12.4"
  }
 },
 "nbformat": 4,
 "nbformat_minor": 5
}
